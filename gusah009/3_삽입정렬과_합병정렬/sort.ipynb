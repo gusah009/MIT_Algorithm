{
 "cells": [
  {
   "cell_type": "code",
   "execution_count": 3,
   "metadata": {},
   "outputs": [],
   "source": [
    "def insert_sort(arr):\n",
    "  for end in range(1, len(arr)):\n",
    "    for i in range(end, 0, -1):\n",
    "      if arr[i - 1] > arr[i]:\n",
    "        arr[i - 1], arr[i] = arr[i], arr[i - 1]\n",
    "      else:\n",
    "        break"
   ]
  },
  {
   "cell_type": "code",
   "execution_count": 9,
   "metadata": {},
   "outputs": [],
   "source": [
    "def is_sorted(arr):\n",
    "  for i in range(1, len(arr)):\n",
    "    if arr[i - 1] > arr[i]:\n",
    "      return False\n",
    "  return True"
   ]
  },
  {
   "cell_type": "code",
   "execution_count": 5,
   "metadata": {},
   "outputs": [],
   "source": [
    "import random"
   ]
  },
  {
   "cell_type": "code",
   "execution_count": 18,
   "metadata": {},
   "outputs": [
    {
     "name": "stdout",
     "output_type": "stream",
     "text": [
      "False\n",
      "True\n"
     ]
    }
   ],
   "source": [
    "arr = [i for i in range(10000)]\n",
    "random.shuffle(arr)\n",
    "# print(arr)\n",
    "print(is_sorted(arr))\n",
    "\n",
    "insert_sort(arr)\n",
    "# print(arr)\n",
    "print(is_sorted(arr))"
   ]
  },
  {
   "cell_type": "code",
   "execution_count": 19,
   "metadata": {},
   "outputs": [],
   "source": [
    "# https://www.daleseo.com/sort-merge/\n",
    "def merge_sort(arr):\n",
    "  if len(arr) < 2:\n",
    "    return arr\n",
    "\n",
    "  mid = len(arr) // 2\n",
    "  low_arr = merge_sort(arr[:mid])\n",
    "  high_arr = merge_sort(arr[mid:])\n",
    "\n",
    "  merged_arr = []\n",
    "  l = h = 0\n",
    "  while l < len(low_arr) and h < len(high_arr):\n",
    "    if low_arr[l] < high_arr[h]:\n",
    "      merged_arr.append(low_arr[l])\n",
    "      l += 1\n",
    "    else:\n",
    "      merged_arr.append(high_arr[h])\n",
    "      h += 1\n",
    "  merged_arr += low_arr[l:]\n",
    "  merged_arr += high_arr[h:]\n",
    "  return merged_arr"
   ]
  },
  {
   "cell_type": "code",
   "execution_count": 21,
   "metadata": {},
   "outputs": [
    {
     "name": "stdout",
     "output_type": "stream",
     "text": [
      "False\n",
      "True\n"
     ]
    }
   ],
   "source": [
    "arr = [i for i in range(10000)]\n",
    "random.shuffle(arr)\n",
    "# print(arr)\n",
    "print(is_sorted(arr))\n",
    "\n",
    "arr = merge_sort(arr)\n",
    "# print(arr)\n",
    "print(is_sorted(arr))"
   ]
  },
  {
   "cell_type": "code",
   "execution_count": null,
   "metadata": {},
   "outputs": [],
   "source": []
  }
 ],
 "metadata": {
  "interpreter": {
   "hash": "2be5faf79681da6f2a61fdfdd5405d65d042280f7fba6178067603e3a2925119"
  },
  "kernelspec": {
   "display_name": "Python 3.10.1 64-bit",
   "language": "python",
   "name": "python3"
  },
  "language_info": {
   "codemirror_mode": {
    "name": "ipython",
    "version": 3
   },
   "file_extension": ".py",
   "mimetype": "text/x-python",
   "name": "python",
   "nbconvert_exporter": "python",
   "pygments_lexer": "ipython3",
   "version": "3.10.1"
  },
  "orig_nbformat": 4
 },
 "nbformat": 4,
 "nbformat_minor": 2
}
