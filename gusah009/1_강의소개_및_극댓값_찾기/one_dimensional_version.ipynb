{
 "cells": [
  {
   "cell_type": "code",
   "execution_count": 2,
   "metadata": {},
   "outputs": [],
   "source": [
    "import random"
   ]
  },
  {
   "cell_type": "code",
   "execution_count": 14,
   "metadata": {},
   "outputs": [],
   "source": [
    "NUM_RANGE = 1000\n",
    "ARRAY_SIZE = 400"
   ]
  },
  {
   "cell_type": "code",
   "execution_count": 4,
   "metadata": {},
   "outputs": [],
   "source": [
    "array_1d = [random.randrange(0, NUM_RANGE) for _ in range(ARRAY_SIZE)]"
   ]
  },
  {
   "cell_type": "code",
   "execution_count": 16,
   "metadata": {},
   "outputs": [
    {
     "name": "stdout",
     "output_type": "stream",
     "text": [
      "[913, 272, 707, 608, 979, 824, 681, 385, 395, 315, 562, 781, 88, 757, 233, 447, 10, 551, 805, 987, 595, 595, 596, 940, 616, 645, 808, 570, 699, 411, 951, 687, 965, 647, 310, 8, 861, 814, 399, 449, 680, 99, 802, 783, 457, 777, 648, 149, 891, 501, 575, 101, 777, 24, 57, 76, 250, 49, 144, 495, 487, 16, 944, 34, 397, 391, 898, 820, 802, 96, 897, 183, 959, 184, 967, 491, 163, 66, 471, 361, 433, 154, 690, 65, 84, 525, 662, 669, 326, 18, 776, 470, 290, 306, 897, 56, 112, 212, 372, 681, 642, 37, 353, 468, 782, 296, 667, 714, 833, 940, 234, 39, 10, 401, 603, 331, 834, 713, 994, 693, 514, 394, 624, 107, 733, 769, 655, 828, 432, 623, 273, 34, 406, 982, 533, 917, 347, 570, 48, 981, 10, 225, 808, 731, 90, 886, 148, 996, 734, 7, 420, 298, 940, 105, 820, 417, 564, 502, 831, 373, 557, 874, 451, 677, 630, 446, 35, 557, 250, 143, 112, 46, 733, 760, 813, 363, 196, 989, 601, 258, 787, 267, 876, 676, 752, 589, 706, 119, 151, 624, 607, 687, 319, 829, 995, 968, 325, 338, 149, 138, 493, 889, 862, 33, 119, 759, 713, 18, 177, 409, 71, 852, 721, 965, 678, 160, 510, 678, 903, 229, 571, 886, 587, 257, 138, 114, 287, 789, 954, 741, 426, 674, 32, 237, 122, 940, 795, 714, 548, 762, 924, 475, 515, 240, 277, 99, 311, 933, 149, 645, 404, 50, 786, 712, 979, 133, 824, 478, 353, 311, 407, 65, 939, 769, 9, 729, 797, 46, 952, 220, 452, 283, 253, 407, 481, 632, 4, 835, 450, 646, 925, 168, 276, 213, 464, 446, 713, 928, 827, 314, 30, 248, 396, 350, 149, 375, 176, 692, 138, 689, 432, 485, 386, 543, 414, 445, 785, 539, 768, 863, 569, 81, 868, 82, 875, 506, 815, 782, 781, 840, 746, 41, 778, 421, 428, 790, 124, 936, 377, 811, 217, 693, 648, 410, 666, 615, 497, 843, 176, 452, 957, 784, 4, 153, 236, 34, 664, 71, 286, 286, 897, 33, 866, 960, 834, 288, 526, 658, 850, 95, 557, 521, 34, 64, 439, 136, 843, 31, 934, 724, 111, 823, 31, 692, 651, 803, 409, 731, 400, 424, 646, 483, 679, 246, 996, 671, 268, 720, 452, 208, 694, 259, 105, 984, 403, 401, 942, 630, 195, 321]\n"
     ]
    }
   ],
   "source": [
    "print(array_1d)"
   ]
  },
  {
   "cell_type": "code",
   "execution_count": 6,
   "metadata": {},
   "outputs": [],
   "source": [
    "# C++ 스타일 분할정복\n",
    "def find_peak_in_1d_array_with_C_style(i, min, max):\n",
    "    if (max - min) == 1:\n",
    "        return array_1d[i]\n",
    "    if (0 < i) and (array_1d[i - 1] > array_1d[i]):\n",
    "        return find_peak_in_1d_array_with_C_style(min + (i - min) // 2, min, i)\n",
    "    elif (i < len(array_1d) - 1) and (array_1d[i] < array_1d[i + 1]):\n",
    "        return find_peak_in_1d_array_with_C_style(i + (max - i) // 2, i, max)\n",
    "    else:\n",
    "        return array_1d[i]"
   ]
  },
  {
   "cell_type": "code",
   "execution_count": 7,
   "metadata": {},
   "outputs": [],
   "source": [
    "answer_in_C = find_peak_in_1d_array_with_C_style(\n",
    "                len(array_1d) // 2,\n",
    "                0, \n",
    "                len(array_1d))"
   ]
  },
  {
   "cell_type": "code",
   "execution_count": 8,
   "metadata": {},
   "outputs": [
    {
     "name": "stdout",
     "output_type": "stream",
     "text": [
      "72\n"
     ]
    }
   ],
   "source": [
    "print(answer_in_C)"
   ]
  },
  {
   "cell_type": "code",
   "execution_count": 9,
   "metadata": {},
   "outputs": [],
   "source": [
    "# python 스타일 분할정복\n",
    "def find_peak_in_1d_array_with_python_style(new_array):\n",
    "    if len(new_array) == 1:\n",
    "        return new_array[0]\n",
    "    center = len(new_array) // 2\n",
    "    if (0 < center) and (new_array[center - 1] > new_array[center]):\n",
    "        return find_peak_in_1d_array_with_python_style(new_array[:center])\n",
    "    elif (center < len(new_array) - 1) and (new_array[center] < new_array[center + 1]):\n",
    "        return find_peak_in_1d_array_with_python_style(new_array[center:])\n",
    "    else:\n",
    "        return new_array[center]"
   ]
  },
  {
   "cell_type": "code",
   "execution_count": 10,
   "metadata": {},
   "outputs": [],
   "source": [
    "answer_in_python = find_peak_in_1d_array_with_python_style(array_1d)"
   ]
  },
  {
   "cell_type": "code",
   "execution_count": 11,
   "metadata": {},
   "outputs": [
    {
     "name": "stdout",
     "output_type": "stream",
     "text": [
      "72\n"
     ]
    }
   ],
   "source": [
    "print(answer_in_python)"
   ]
  },
  {
   "cell_type": "code",
   "execution_count": 15,
   "metadata": {},
   "outputs": [
    {
     "name": "stdout",
     "output_type": "stream",
     "text": [
      "100.0 %\n"
     ]
    }
   ],
   "source": [
    "COUNT = 100000\n",
    "is_correct = 0\n",
    "for _ in range(COUNT):\n",
    "    array_1d = [random.randrange(0, NUM_RANGE) for _ in range(ARRAY_SIZE)]\n",
    "\n",
    "    answer_in_C = find_peak_in_1d_array_with_C_style(len(array_1d) // 2, 0,  len(array_1d))\n",
    "    answer_in_python = find_peak_in_1d_array_with_python_style(array_1d)\n",
    "\n",
    "    if (answer_in_C == answer_in_python):\n",
    "        is_correct += 1\n",
    "\n",
    "print(is_correct / COUNT * 100, \"%\")"
   ]
  },
  {
   "cell_type": "code",
   "execution_count": null,
   "metadata": {},
   "outputs": [],
   "source": []
  }
 ],
 "metadata": {
  "interpreter": {
   "hash": "2be5faf79681da6f2a61fdfdd5405d65d042280f7fba6178067603e3a2925119"
  },
  "kernelspec": {
   "display_name": "Python 3.10.1 64-bit",
   "language": "python",
   "name": "python3"
  },
  "language_info": {
   "codemirror_mode": {
    "name": "ipython",
    "version": 3
   },
   "file_extension": ".py",
   "mimetype": "text/x-python",
   "name": "python",
   "nbconvert_exporter": "python",
   "pygments_lexer": "ipython3",
   "version": "3.10.1"
  },
  "orig_nbformat": 4
 },
 "nbformat": 4,
 "nbformat_minor": 2
}
